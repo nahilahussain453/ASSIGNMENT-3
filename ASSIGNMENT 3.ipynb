{
 "cells": [
  {
   "cell_type": "code",
   "execution_count": 5,
   "id": "2d0e5325",
   "metadata": {},
   "outputs": [
    {
     "data": {
      "text/plain": [
       "female    518\n",
       "male      482\n",
       "Name: gender, dtype: int64"
      ]
     },
     "execution_count": 5,
     "metadata": {},
     "output_type": "execute_result"
    }
   ],
   "source": [
    "#1.To find how many males and females participated in the test\n",
    "import pandas as pd\n",
    "data=pd.read_csv(r'C:\\Users\\user\\Downloads\\StudentsPerformance.csv')\n",
    "data['gender'].value_counts()"
   ]
  },
  {
   "cell_type": "code",
   "execution_count": 69,
   "id": "e04f7528",
   "metadata": {},
   "outputs": [
    {
     "data": {
      "text/plain": [
       "some college          226\n",
       "associate's degree    222\n",
       "high school           196\n",
       "some high school      179\n",
       "bachelor's degree     118\n",
       "master's degree        59\n",
       "Name: parental level of education, dtype: int64"
      ]
     },
     "execution_count": 69,
     "metadata": {},
     "output_type": "execute_result"
    }
   ],
   "source": [
    "#2.What do you think about the parental level of education\n",
    "import matplotlib.pyplot as plt\n",
    "data['parental level of education'].value_counts()\n"
   ]
  },
  {
   "cell_type": "code",
   "execution_count": 70,
   "id": "d93aa46f",
   "metadata": {},
   "outputs": [],
   "source": [
    "#It can be concluded that most of the parents are college passouts and few of them are master degree holders."
   ]
  },
  {
   "cell_type": "code",
   "execution_count": 26,
   "id": "0f9981d7",
   "metadata": {},
   "outputs": [],
   "source": [
    "#3.Who scores the most on average for math,reading and writing based on\n",
    "#i)gender"
   ]
  },
  {
   "cell_type": "code",
   "execution_count": 64,
   "id": "cd1f39d5",
   "metadata": {},
   "outputs": [
    {
     "data": {
      "text/plain": [
       "gender\n",
       "female    72.467181\n",
       "male      63.446058\n",
       "Name: writing score, dtype: float64"
      ]
     },
     "execution_count": 64,
     "metadata": {},
     "output_type": "execute_result"
    }
   ],
   "source": [
    "data.groupby('gender')['math score'].mean()\n",
    "data.groupby('gender')['reading score'].mean()\n",
    "data.groupby('gender')['writing score'].mean()\n"
   ]
  },
  {
   "cell_type": "code",
   "execution_count": null,
   "id": "bfffa1f9",
   "metadata": {},
   "outputs": [],
   "source": [
    "#Females score more"
   ]
  },
  {
   "cell_type": "code",
   "execution_count": 65,
   "id": "0ef872d4",
   "metadata": {},
   "outputs": [
    {
     "data": {
      "text/plain": [
       "test preparation course\n",
       "completed    74.684358\n",
       "none         64.457944\n",
       "Name: writing score, dtype: float64"
      ]
     },
     "execution_count": 65,
     "metadata": {},
     "output_type": "execute_result"
    }
   ],
   "source": [
    "#ii)Test preparation course\n",
    "data.groupby('test preparation course')['math score'].mean()\n",
    "data.groupby('test preparation course')['reading score'].mean()\n",
    "data.groupby('test preparation course')['writing score'].mean()"
   ]
  },
  {
   "cell_type": "code",
   "execution_count": null,
   "id": "bef5cecb",
   "metadata": {},
   "outputs": [],
   "source": [
    "#The people who complteted the test prepartion scores more."
   ]
  },
  {
   "cell_type": "code",
   "execution_count": null,
   "id": "b0ec8257",
   "metadata": {},
   "outputs": [],
   "source": [
    "#4.What do you think about the scoring variation of math,reading and writing score based on\n",
    "#i)gender"
   ]
  },
  {
   "cell_type": "code",
   "execution_count": 63,
   "id": "d37239ca",
   "metadata": {},
   "outputs": [
    {
     "data": {
      "text/plain": [
       "gender\n",
       "female    220.369327\n",
       "male      202.413924\n",
       "Name: writing score, dtype: float64"
      ]
     },
     "execution_count": 63,
     "metadata": {},
     "output_type": "execute_result"
    }
   ],
   "source": [
    "import numpy as np\n",
    "import pandas as pd\n",
    "data.groupby('gender')['math score'].var()\n",
    "data.groupby('gender')['reading score'].var()\n",
    "data.groupby('gender')['writing score'].var()\n"
   ]
  },
  {
   "cell_type": "code",
   "execution_count": 62,
   "id": "a93d8195",
   "metadata": {},
   "outputs": [
    {
     "data": {
      "text/plain": [
       "test preparation course\n",
       "completed    175.202612\n",
       "none         226.251739\n",
       "Name: writing score, dtype: float64"
      ]
     },
     "execution_count": 62,
     "metadata": {},
     "output_type": "execute_result"
    }
   ],
   "source": [
    "import numpy as np\n",
    "import pandas as pd\n",
    "data.groupby('test preparation course')['math score'].var() \n",
    "data.groupby('test preparation course')['reading score'].var()\n",
    "data.groupby('test preparation course')['writing score'].var()\n"
   ]
  },
  {
   "cell_type": "code",
   "execution_count": 55,
   "id": "640f85b0",
   "metadata": {},
   "outputs": [
    {
     "data": {
      "text/plain": [
       "57.0"
      ]
     },
     "execution_count": 55,
     "metadata": {},
     "output_type": "execute_result"
    }
   ],
   "source": [
    "#5.The management needs help to give bonus points to 25% of students based on maths score.How will you help the management to \n",
    "#to achieve this.\n",
    "\n",
    "data['math score'].quantile(0.25)"
   ]
  },
  {
   "cell_type": "code",
   "execution_count": null,
   "id": "2e839fff",
   "metadata": {},
   "outputs": [],
   "source": []
  }
 ],
 "metadata": {
  "kernelspec": {
   "display_name": "Python 3 (ipykernel)",
   "language": "python",
   "name": "python3"
  },
  "language_info": {
   "codemirror_mode": {
    "name": "ipython",
    "version": 3
   },
   "file_extension": ".py",
   "mimetype": "text/x-python",
   "name": "python",
   "nbconvert_exporter": "python",
   "pygments_lexer": "ipython3",
   "version": "3.9.12"
  }
 },
 "nbformat": 4,
 "nbformat_minor": 5
}
